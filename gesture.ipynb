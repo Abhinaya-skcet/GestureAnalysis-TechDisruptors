{
 "cells": [
  {
   "cell_type": "code",
   "execution_count": 2,
   "id": "701d3402-d022-4c1a-be70-b0f7e41237c4",
   "metadata": {},
   "outputs": [
    {
     "name": "stdout",
     "output_type": "stream",
     "text": [
      "Requirement already satisfied: mediapipe in c:\\users\\abhin\\onedrive\\documents\\anaconda\\lib\\site-packages (0.10.14)\n",
      "Requirement already satisfied: opencv-python in c:\\users\\abhin\\onedrive\\documents\\anaconda\\lib\\site-packages (4.10.0.84)\n",
      "Requirement already satisfied: absl-py in c:\\users\\abhin\\onedrive\\documents\\anaconda\\lib\\site-packages (from mediapipe) (2.1.0)\n",
      "Requirement already satisfied: attrs>=19.1.0 in c:\\users\\abhin\\onedrive\\documents\\anaconda\\lib\\site-packages (from mediapipe) (23.1.0)\n",
      "Requirement already satisfied: flatbuffers>=2.0 in c:\\users\\abhin\\onedrive\\documents\\anaconda\\lib\\site-packages (from mediapipe) (24.3.25)\n",
      "Requirement already satisfied: jax in c:\\users\\abhin\\onedrive\\documents\\anaconda\\lib\\site-packages (from mediapipe) (0.4.31)\n",
      "Requirement already satisfied: jaxlib in c:\\users\\abhin\\onedrive\\documents\\anaconda\\lib\\site-packages (from mediapipe) (0.4.31)\n",
      "Requirement already satisfied: matplotlib in c:\\users\\abhin\\onedrive\\documents\\anaconda\\lib\\site-packages (from mediapipe) (3.8.4)\n",
      "Requirement already satisfied: numpy in c:\\users\\abhin\\onedrive\\documents\\anaconda\\lib\\site-packages (from mediapipe) (1.26.4)\n",
      "Requirement already satisfied: opencv-contrib-python in c:\\users\\abhin\\onedrive\\documents\\anaconda\\lib\\site-packages (from mediapipe) (4.10.0.84)\n",
      "Requirement already satisfied: protobuf<5,>=4.25.3 in c:\\users\\abhin\\onedrive\\documents\\anaconda\\lib\\site-packages (from mediapipe) (4.25.4)\n",
      "Requirement already satisfied: sounddevice>=0.4.4 in c:\\users\\abhin\\onedrive\\documents\\anaconda\\lib\\site-packages (from mediapipe) (0.5.0)\n",
      "Requirement already satisfied: CFFI>=1.0 in c:\\users\\abhin\\onedrive\\documents\\anaconda\\lib\\site-packages (from sounddevice>=0.4.4->mediapipe) (1.16.0)\n",
      "Requirement already satisfied: ml-dtypes>=0.2.0 in c:\\users\\abhin\\onedrive\\documents\\anaconda\\lib\\site-packages (from jax->mediapipe) (0.4.0)\n",
      "Requirement already satisfied: opt-einsum in c:\\users\\abhin\\onedrive\\documents\\anaconda\\lib\\site-packages (from jax->mediapipe) (3.3.0)\n",
      "Requirement already satisfied: scipy>=1.10 in c:\\users\\abhin\\onedrive\\documents\\anaconda\\lib\\site-packages (from jax->mediapipe) (1.13.1)\n",
      "Requirement already satisfied: contourpy>=1.0.1 in c:\\users\\abhin\\onedrive\\documents\\anaconda\\lib\\site-packages (from matplotlib->mediapipe) (1.2.0)\n",
      "Requirement already satisfied: cycler>=0.10 in c:\\users\\abhin\\onedrive\\documents\\anaconda\\lib\\site-packages (from matplotlib->mediapipe) (0.11.0)\n",
      "Requirement already satisfied: fonttools>=4.22.0 in c:\\users\\abhin\\onedrive\\documents\\anaconda\\lib\\site-packages (from matplotlib->mediapipe) (4.51.0)\n",
      "Requirement already satisfied: kiwisolver>=1.3.1 in c:\\users\\abhin\\onedrive\\documents\\anaconda\\lib\\site-packages (from matplotlib->mediapipe) (1.4.4)\n",
      "Requirement already satisfied: packaging>=20.0 in c:\\users\\abhin\\onedrive\\documents\\anaconda\\lib\\site-packages (from matplotlib->mediapipe) (23.2)\n",
      "Requirement already satisfied: pillow>=8 in c:\\users\\abhin\\onedrive\\documents\\anaconda\\lib\\site-packages (from matplotlib->mediapipe) (10.3.0)\n",
      "Requirement already satisfied: pyparsing>=2.3.1 in c:\\users\\abhin\\onedrive\\documents\\anaconda\\lib\\site-packages (from matplotlib->mediapipe) (3.0.9)\n",
      "Requirement already satisfied: python-dateutil>=2.7 in c:\\users\\abhin\\onedrive\\documents\\anaconda\\lib\\site-packages (from matplotlib->mediapipe) (2.9.0.post0)\n",
      "Requirement already satisfied: pycparser in c:\\users\\abhin\\onedrive\\documents\\anaconda\\lib\\site-packages (from CFFI>=1.0->sounddevice>=0.4.4->mediapipe) (2.21)\n",
      "Requirement already satisfied: six>=1.5 in c:\\users\\abhin\\onedrive\\documents\\anaconda\\lib\\site-packages (from python-dateutil>=2.7->matplotlib->mediapipe) (1.16.0)\n"
     ]
    }
   ],
   "source": [
    "!pip install mediapipe opencv-python"
   ]
  },
  {
   "cell_type": "code",
   "execution_count": 3,
   "id": "70057c04-8d51-4695-be6e-e3e46f62dc8b",
   "metadata": {},
   "outputs": [],
   "source": [
    "import mediapipe as mp\n",
    "import cv2"
   ]
  },
  {
   "cell_type": "code",
   "execution_count": 4,
   "id": "d7ef3b67-dd82-4310-a4a4-2ffdf9aac58d",
   "metadata": {},
   "outputs": [],
   "source": [
    "mp_drawing = mp.solutions.drawing_utils\n",
    "mp_holistic = mp.solutions.holistic"
   ]
  },
  {
   "cell_type": "code",
   "execution_count": 5,
   "id": "0bef4654-dafe-4367-94f3-5ef6929f890b",
   "metadata": {},
   "outputs": [],
   "source": [
    "cap = cv2.VideoCapture(0)\n",
    "while cap.isOpened():\n",
    "    ret, frame = cap.read()\n",
    "    cv2.imshow('Raw Webcam Feed', frame)\n",
    "    \n",
    "    if cv2.waitKey(10) & 0xFF == ord('q'):\n",
    "        break\n",
    "\n",
    "cap.release()\n",
    "cv2.destroyAllWindows()"
   ]
  },
  {
   "cell_type": "code",
   "execution_count": 6,
   "id": "c2c0fd36-555f-4b2a-b5ff-666c07d2a868",
   "metadata": {},
   "outputs": [],
   "source": [
    "cap.release()\n",
    "cv2.destroyAllWindows()"
   ]
  },
  {
   "cell_type": "code",
   "execution_count": 7,
   "id": "81fb5cdc-2853-4867-8d10-674c57c50bba",
   "metadata": {},
   "outputs": [
    {
     "name": "stdout",
     "output_type": "stream",
     "text": [
      "Requirement already satisfied: mediapipe in c:\\users\\abhin\\onedrive\\documents\\anaconda\\lib\\site-packages (0.10.14)\n",
      "Requirement already satisfied: absl-py in c:\\users\\abhin\\onedrive\\documents\\anaconda\\lib\\site-packages (from mediapipe) (2.1.0)\n",
      "Requirement already satisfied: attrs>=19.1.0 in c:\\users\\abhin\\onedrive\\documents\\anaconda\\lib\\site-packages (from mediapipe) (23.1.0)\n",
      "Requirement already satisfied: flatbuffers>=2.0 in c:\\users\\abhin\\onedrive\\documents\\anaconda\\lib\\site-packages (from mediapipe) (24.3.25)\n",
      "Requirement already satisfied: jax in c:\\users\\abhin\\onedrive\\documents\\anaconda\\lib\\site-packages (from mediapipe) (0.4.31)\n",
      "Requirement already satisfied: jaxlib in c:\\users\\abhin\\onedrive\\documents\\anaconda\\lib\\site-packages (from mediapipe) (0.4.31)\n",
      "Requirement already satisfied: matplotlib in c:\\users\\abhin\\onedrive\\documents\\anaconda\\lib\\site-packages (from mediapipe) (3.8.4)\n",
      "Requirement already satisfied: numpy in c:\\users\\abhin\\onedrive\\documents\\anaconda\\lib\\site-packages (from mediapipe) (1.26.4)\n",
      "Requirement already satisfied: opencv-contrib-python in c:\\users\\abhin\\onedrive\\documents\\anaconda\\lib\\site-packages (from mediapipe) (4.10.0.84)\n",
      "Requirement already satisfied: protobuf<5,>=4.25.3 in c:\\users\\abhin\\onedrive\\documents\\anaconda\\lib\\site-packages (from mediapipe) (4.25.4)\n",
      "Requirement already satisfied: sounddevice>=0.4.4 in c:\\users\\abhin\\onedrive\\documents\\anaconda\\lib\\site-packages (from mediapipe) (0.5.0)\n",
      "Requirement already satisfied: CFFI>=1.0 in c:\\users\\abhin\\onedrive\\documents\\anaconda\\lib\\site-packages (from sounddevice>=0.4.4->mediapipe) (1.16.0)\n",
      "Requirement already satisfied: ml-dtypes>=0.2.0 in c:\\users\\abhin\\onedrive\\documents\\anaconda\\lib\\site-packages (from jax->mediapipe) (0.4.0)\n",
      "Requirement already satisfied: opt-einsum in c:\\users\\abhin\\onedrive\\documents\\anaconda\\lib\\site-packages (from jax->mediapipe) (3.3.0)\n",
      "Requirement already satisfied: scipy>=1.10 in c:\\users\\abhin\\onedrive\\documents\\anaconda\\lib\\site-packages (from jax->mediapipe) (1.13.1)\n",
      "Requirement already satisfied: contourpy>=1.0.1 in c:\\users\\abhin\\onedrive\\documents\\anaconda\\lib\\site-packages (from matplotlib->mediapipe) (1.2.0)\n",
      "Requirement already satisfied: cycler>=0.10 in c:\\users\\abhin\\onedrive\\documents\\anaconda\\lib\\site-packages (from matplotlib->mediapipe) (0.11.0)\n",
      "Requirement already satisfied: fonttools>=4.22.0 in c:\\users\\abhin\\onedrive\\documents\\anaconda\\lib\\site-packages (from matplotlib->mediapipe) (4.51.0)\n",
      "Requirement already satisfied: kiwisolver>=1.3.1 in c:\\users\\abhin\\onedrive\\documents\\anaconda\\lib\\site-packages (from matplotlib->mediapipe) (1.4.4)\n",
      "Requirement already satisfied: packaging>=20.0 in c:\\users\\abhin\\onedrive\\documents\\anaconda\\lib\\site-packages (from matplotlib->mediapipe) (23.2)\n",
      "Requirement already satisfied: pillow>=8 in c:\\users\\abhin\\onedrive\\documents\\anaconda\\lib\\site-packages (from matplotlib->mediapipe) (10.3.0)\n",
      "Requirement already satisfied: pyparsing>=2.3.1 in c:\\users\\abhin\\onedrive\\documents\\anaconda\\lib\\site-packages (from matplotlib->mediapipe) (3.0.9)\n",
      "Requirement already satisfied: python-dateutil>=2.7 in c:\\users\\abhin\\onedrive\\documents\\anaconda\\lib\\site-packages (from matplotlib->mediapipe) (2.9.0.post0)\n",
      "Requirement already satisfied: pycparser in c:\\users\\abhin\\onedrive\\documents\\anaconda\\lib\\site-packages (from CFFI>=1.0->sounddevice>=0.4.4->mediapipe) (2.21)\n",
      "Requirement already satisfied: six>=1.5 in c:\\users\\abhin\\onedrive\\documents\\anaconda\\lib\\site-packages (from python-dateutil>=2.7->matplotlib->mediapipe) (1.16.0)\n",
      "Note: you may need to restart the kernel to use updated packages.\n"
     ]
    }
   ],
   "source": [
    "pip install mediapipe --upgrade\n"
   ]
  },
  {
   "cell_type": "code",
   "execution_count": 8,
   "id": "60f3c316-f8f5-4530-b3a5-09400bad69a9",
   "metadata": {},
   "outputs": [
    {
     "name": "stdout",
     "output_type": "stream",
     "text": [
      "['FACEMESH_CONTOURS', 'FACEMESH_TESSELATION', 'HAND_CONNECTIONS', 'HandLandmark', 'Holistic', 'NamedTuple', 'POSE_CONNECTIONS', 'PoseLandmark', 'SolutionBase', '_BINARYPB_FILE_PATH', '__builtins__', '__cached__', '__doc__', '__file__', '__loader__', '__name__', '__package__', '__spec__', '_download_oss_pose_landmark_model', 'constant_side_packet_calculator_pb2', 'detections_to_rects_calculator_pb2', 'download_utils', 'gate_calculator_pb2', 'image_to_tensor_calculator_pb2', 'inference_calculator_pb2', 'landmark_projection_calculator_pb2', 'local_file_contents_calculator_pb2', 'non_max_suppression_calculator_pb2', 'np', 'rect_transformation_calculator_pb2', 'roi_tracking_calculator_pb2', 'split_vector_calculator_pb2', 'ssd_anchors_calculator_pb2', 'switch_container_pb2', 'tensors_to_classification_calculator_pb2', 'tensors_to_floats_calculator_pb2', 'tensors_to_landmarks_calculator_pb2']\n"
     ]
    }
   ],
   "source": [
    "import mediapipe as mp\n",
    "\n",
    "print(dir(mp.solutions.holistic))\n"
   ]
  },
  {
   "cell_type": "code",
   "execution_count": 9,
   "id": "e0f5be9a-5a76-4c06-b986-1386dd57a774",
   "metadata": {},
   "outputs": [
    {
     "name": "stderr",
     "output_type": "stream",
     "text": [
      "C:\\Users\\abhin\\OneDrive\\Documents\\Anaconda\\Lib\\site-packages\\google\\protobuf\\symbol_database.py:55: UserWarning: SymbolDatabase.GetPrototype() is deprecated. Please use message_factory.GetMessageClass() instead. SymbolDatabase.GetPrototype() will be removed soon.\n",
      "  warnings.warn('SymbolDatabase.GetPrototype() is deprecated. Please '\n"
     ]
    }
   ],
   "source": [
    "import cv2\n",
    "import mediapipe as mp\n",
    "\n",
    "# Initialize MediaPipe Holistic\n",
    "mp_holistic = mp.solutions.holistic\n",
    "mp_drawing = mp.solutions.drawing_utils\n",
    "\n",
    "# Open webcam\n",
    "cap = cv2.VideoCapture(0)\n",
    "\n",
    "# Initialize Holistic model\n",
    "with mp_holistic.Holistic(min_detection_confidence=0.5, min_tracking_confidence=0.5) as holistic:\n",
    "    while cap.isOpened():\n",
    "        ret, frame = cap.read()\n",
    "        if not ret:\n",
    "            print(\"Failed to grab frame.\")\n",
    "            break\n",
    "        \n",
    "        # Convert the image to RGB\n",
    "        image_rgb = cv2.cvtColor(frame, cv2.COLOR_BGR2RGB)\n",
    "        \n",
    "        # Process the image and get the results\n",
    "        results = holistic.process(image_rgb)\n",
    "        \n",
    "        # Convert the image back to BGR for display\n",
    "        image_bgr = cv2.cvtColor(image_rgb, cv2.COLOR_RGB2BGR)\n",
    "        \n",
    "        # Detecting SOS based on both hands\n",
    "        if results.right_hand_landmarks and results.left_hand_landmarks:\n",
    "            right_landmarks = results.right_hand_landmarks.landmark\n",
    "            left_landmarks = results.left_hand_landmarks.landmark\n",
    "            \n",
    "            # Check if both index fingers are raised above other landmarks\n",
    "            if (right_landmarks[8].y < right_landmarks[5].y and right_landmarks[8].y < right_landmarks[4].y and\n",
    "                left_landmarks[8].y < left_landmarks[5].y and left_landmarks[8].y < left_landmarks[4].y):\n",
    "                gesture_label = \"SOS Detected\"\n",
    "                color = (0, 255, 0)  # Green\n",
    "            else:\n",
    "                gesture_label = \"Not SOS\"\n",
    "                color = (0, 0, 255)  # Red\n",
    "            \n",
    "            # Draw gesture label\n",
    "            cv2.putText(image_bgr, gesture_label, (10, 30), cv2.FONT_HERSHEY_SIMPLEX, \n",
    "                        1, color, 2, cv2.LINE_AA)\n",
    "        \n",
    "        # Draw landmarks if present\n",
    "        if results.right_hand_landmarks:\n",
    "            mp_drawing.draw_landmarks(image_bgr, results.right_hand_landmarks, mp_holistic.HAND_CONNECTIONS)\n",
    "        \n",
    "        if results.left_hand_landmarks:\n",
    "            mp_drawing.draw_landmarks(image_bgr, results.left_hand_landmarks, mp_holistic.HAND_CONNECTIONS)\n",
    "        \n",
    "        if results.pose_landmarks:\n",
    "            mp_drawing.draw_landmarks(image_bgr, results.pose_landmarks, mp_holistic.POSE_CONNECTIONS)\n",
    "        \n",
    "        # Show the frame with landmarks\n",
    "        cv2.imshow('Raw Webcam Feed', image_bgr)\n",
    "        \n",
    "        # Break the loop if 'q' is pressed\n",
    "        if cv2.waitKey(10) & 0xFF == ord('q'):\n",
    "            break\n",
    "\n",
    "# Release resources\n",
    "cap.release()\n",
    "cv2.destroyAllWindows()\n"
   ]
  },
  {
   "cell_type": "code",
   "execution_count": 10,
   "id": "abb7200b-b9c2-4d0d-aa31-6f3a8cdfacff",
   "metadata": {},
   "outputs": [
    {
     "name": "stdout",
     "output_type": "stream",
     "text": [
      "Requirement already satisfied: requests in c:\\users\\abhin\\onedrive\\documents\\anaconda\\lib\\site-packages (2.32.2)\n",
      "Requirement already satisfied: charset-normalizer<4,>=2 in c:\\users\\abhin\\onedrive\\documents\\anaconda\\lib\\site-packages (from requests) (2.0.4)\n",
      "Requirement already satisfied: idna<4,>=2.5 in c:\\users\\abhin\\onedrive\\documents\\anaconda\\lib\\site-packages (from requests) (3.7)\n",
      "Requirement already satisfied: urllib3<3,>=1.21.1 in c:\\users\\abhin\\onedrive\\documents\\anaconda\\lib\\site-packages (from requests) (2.2.2)\n",
      "Requirement already satisfied: certifi>=2017.4.17 in c:\\users\\abhin\\onedrive\\documents\\anaconda\\lib\\site-packages (from requests) (2024.6.2)\n",
      "Note: you may need to restart the kernel to use updated packages.\n"
     ]
    }
   ],
   "source": [
    "pip install requests"
   ]
  },
  {
   "cell_type": "code",
   "execution_count": 13,
   "id": "ee62989b-6800-4b5f-84d6-1e09ef3b7215",
   "metadata": {},
   "outputs": [
    {
     "name": "stdout",
     "output_type": "stream",
     "text": [
      "Address: Malathhalli Main Road, Mallathahalli, Bengaluru, Karnataka, 560072, India\n",
      "Alert sent: {'status': 'Alert received'}\n"
     ]
    }
   ],
   "source": [
    "import cv2\n",
    "import base64\n",
    "import requests\n",
    "from datetime import datetime\n",
    "import time\n",
    "\n",
    "# Initialize MediaPipe Holistic\n",
    "mp_holistic = mp.solutions.holistic\n",
    "mp_drawing = mp.solutions.drawing_utils\n",
    "\n",
    "# Flask server URL\n",
    "FLASK_SERVER_URL = 'http://127.0.0.1:5000/alert'\n",
    "\n",
    "# Geocoding API URL\n",
    "GEOCODE_API_URL = 'https://nominatim.openstreetmap.org/reverse'\n",
    "\n",
    "# Function to get address from latitude and longitude\n",
    "def get_address_from_coordinates(lat, lon):\n",
    "    try:\n",
    "        response = requests.get(GEOCODE_API_URL, params={\n",
    "            'lat': lat,\n",
    "            'lon': lon,\n",
    "            'format': 'json',\n",
    "            'addressdetails': 1\n",
    "        })\n",
    "        data = response.json()\n",
    "        if 'address' in data:\n",
    "            address = data['address']\n",
    "            formatted_address = ', '.join([\n",
    "                address.get('road', ''),\n",
    "                address.get('suburb', ''),\n",
    "                address.get('city', ''),\n",
    "                address.get('state', ''),\n",
    "                address.get('postcode', ''),\n",
    "                address.get('country', '')\n",
    "            ]).strip(', ')\n",
    "            return formatted_address or 'Address not found'\n",
    "        else:\n",
    "            return 'Address not found'\n",
    "    except Exception as e:\n",
    "        print(f\"Error fetching address: {e}\")\n",
    "        return 'Address lookup failed'\n",
    "\n",
    "# Function to encode image to base64\n",
    "def encode_image_to_base64(image):\n",
    "    _, buffer = cv2.imencode('.jpg', image)\n",
    "    return base64.b64encode(buffer).decode('utf-8')\n",
    "\n",
    "# Coordinates\n",
    "latitude = 12.963829\n",
    "longitude = 77.505777\n",
    "\n",
    "# Get address for the provided coordinates\n",
    "address = get_address_from_coordinates(latitude, longitude)\n",
    "print(f\"Address: {address}\")\n",
    "\n",
    "# Open webcam\n",
    "cap = cv2.VideoCapture(0)\n",
    "\n",
    "# Initialize Holistic model\n",
    "with mp_holistic.Holistic(min_detection_confidence=0.5, min_tracking_confidence=0.5) as holistic:\n",
    "    sos_alert_sent = False\n",
    "    display_sos = False\n",
    "    sos_display_start_time = None\n",
    "\n",
    "    while cap.isOpened():\n",
    "        ret, frame = cap.read()\n",
    "        if not ret:\n",
    "            print(\"Failed to grab frame.\")\n",
    "            break\n",
    "\n",
    "        # Convert the image to RGB\n",
    "        image_rgb = cv2.cvtColor(frame, cv2.COLOR_BGR2RGB)\n",
    "        \n",
    "        # Process the image and get the results\n",
    "        results = holistic.process(image_rgb)\n",
    "        \n",
    "        # Convert the image back to BGR for display\n",
    "        image_bgr = cv2.cvtColor(image_rgb, cv2.COLOR_RGB2BGR)\n",
    "\n",
    "        # Detecting SOS based on both hands\n",
    "        if results.right_hand_landmarks and results.left_hand_landmarks:\n",
    "            right_landmarks = results.right_hand_landmarks.landmark\n",
    "            left_landmarks = results.left_hand_landmarks.landmark\n",
    "            \n",
    "            if (right_landmarks[8].y < right_landmarks[5].y and right_landmarks[8].y < right_landmarks[4].y and\n",
    "                left_landmarks[8].y < left_landmarks[5].y and left_landmarks[8].y < left_landmarks[4].y):\n",
    "                \n",
    "                gesture_label = \"SOS Detected\"\n",
    "                color = (0, 255, 0)  # Green\n",
    "                \n",
    "                if not sos_alert_sent:\n",
    "                    # Encode the captured image\n",
    "                    encoded_image = encode_image_to_base64(frame)\n",
    "\n",
    "                    # Prepare data to send to Flask with the provided location\n",
    "                    alert_data = {\n",
    "                        \"message\": \"SOS\",\n",
    "                        \"location\": {\n",
    "                            \"latitude\": latitude,\n",
    "                            \"longitude\": longitude,\n",
    "                            \"address\": address\n",
    "                        },\n",
    "                        \"timestamp\": datetime.now().isoformat(),\n",
    "                        \"image\": encoded_image\n",
    "                    }\n",
    "                    \n",
    "                    # Send SOS alert to Flask server\n",
    "                    try:\n",
    "                        response = requests.post(FLASK_SERVER_URL, json=alert_data)\n",
    "                        print(\"Alert sent:\", response.json())\n",
    "                        sos_alert_sent = True\n",
    "                        display_sos = True\n",
    "                        sos_display_start_time = time.time()\n",
    "                    except Exception as e:\n",
    "                        print(f\"Failed to send alert: {e}\")\n",
    "        \n",
    "        if display_sos:\n",
    "            cv2.putText(image_bgr, \"SOS Detected\", (10, 30), cv2.FONT_HERSHEY_SIMPLEX, \n",
    "                        1, (0, 255, 0), 2, cv2.LINE_AA)\n",
    "            if time.time() - sos_display_start_time > 2:\n",
    "                break\n",
    "\n",
    "        else:\n",
    "            gesture_label = \"Not SOS\"\n",
    "            color = (0, 0, 255)  # Red\n",
    "            cv2.putText(image_bgr, gesture_label, (10, 30), cv2.FONT_HERSHEY_SIMPLEX, \n",
    "                        1, color, 2, cv2.LINE_AA)\n",
    "        \n",
    "        if results.right_hand_landmarks:\n",
    "            mp_drawing.draw_landmarks(image_bgr, results.right_hand_landmarks, mp_holistic.HAND_CONNECTIONS)\n",
    "        \n",
    "        if results.left_hand_landmarks:\n",
    "            mp_drawing.draw_landmarks(image_bgr, results.left_hand_landmarks, mp_holistic.HAND_CONNECTIONS)\n",
    "        \n",
    "        if results.pose_landmarks:\n",
    "            mp_drawing.draw_landmarks(image_bgr, results.pose_landmarks, mp_holistic.POSE_CONNECTIONS)\n",
    "        \n",
    "        cv2.imshow('Raw Webcam Feed', image_bgr)\n",
    "        \n",
    "        if cv2.waitKey(10) & 0xFF == ord('q'):\n",
    "            break\n",
    "\n",
    "cap.release()\n",
    "cv2.destroyAllWindows()\n"
   ]
  },
  {
   "cell_type": "code",
   "execution_count": null,
   "id": "625529b9-6d95-4b76-b12e-a2be4d43f327",
   "metadata": {},
   "outputs": [],
   "source": []
  },
  {
   "cell_type": "code",
   "execution_count": null,
   "id": "418eb362-93a9-4b88-96b1-ce801039fe06",
   "metadata": {},
   "outputs": [],
   "source": []
  }
 ],
 "metadata": {
  "kernelspec": {
   "display_name": "Python 3 (ipykernel)",
   "language": "python",
   "name": "python3"
  },
  "language_info": {
   "codemirror_mode": {
    "name": "ipython",
    "version": 3
   },
   "file_extension": ".py",
   "mimetype": "text/x-python",
   "name": "python",
   "nbconvert_exporter": "python",
   "pygments_lexer": "ipython3",
   "version": "3.12.4"
  }
 },
 "nbformat": 4,
 "nbformat_minor": 5
}
